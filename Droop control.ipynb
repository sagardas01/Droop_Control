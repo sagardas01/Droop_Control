{
 "cells": [
  {
   "cell_type": "code",
   "execution_count": 98,
   "metadata": {},
   "outputs": [],
   "source": [
    "import numpy as np\n",
    "import math"
   ]
  },
  {
   "cell_type": "code",
   "execution_count": 99,
   "metadata": {},
   "outputs": [],
   "source": [
    "# Define converter ratings in MW\n",
    "PCN1, PCN2, PCN3, PCN4, PCN5 = 900, 800, 1000, 750, 640"
   ]
  },
  {
   "cell_type": "code",
   "execution_count": 100,
   "metadata": {},
   "outputs": [],
   "source": [
    "# Define loading values at 75% loading\n",
    "L1, L2, L3, L4, L5 = 675, 600, 750, 562.5, 480"
   ]
  },
  {
   "cell_type": "code",
   "execution_count": 101,
   "metadata": {},
   "outputs": [],
   "source": [
    "# Calculate remaining power capacity after loading\n",
    "PCN11 = PCN1 - L1\n",
    "PCN22 = PCN2 - L2\n",
    "PCN33 = PCN3 - L3\n",
    "PCN44 = PCN4 - L4\n",
    "PCN55 = PCN5 - L5"
   ]
  },
  {
   "cell_type": "code",
   "execution_count": 102,
   "metadata": {},
   "outputs": [],
   "source": [
    "# Converter voltage ratings in kV\n",
    "Urated = [400, 400, 400, 400, 400]"
   ]
  },
  {
   "cell_type": "code",
   "execution_count": 103,
   "metadata": {},
   "outputs": [],
   "source": [
    "# Droop constants and time constants\n",
    "Kdc = [0.04, 0.04, 0.04, 0.04, 0.04]\n",
    "Tb = [0.05, 0.05, 0.05, 0.05, 0.05]"
   ]
  },
  {
   "cell_type": "code",
   "execution_count": 104,
   "metadata": {},
   "outputs": [],
   "source": [
    "# Capacitor and line capacitance values\n",
    "Cb = [113, 100, 125, 94, 80]\n",
    "CL = [405, 240, 520, 405, 120]"
   ]
  },
  {
   "cell_type": "code",
   "execution_count": 105,
   "metadata": {},
   "outputs": [
    {
     "name": "stdout",
     "output_type": "stream",
     "text": [
      "818.0 613.5 7157.5\n"
     ]
    }
   ],
   "source": [
    "pavg = np.mean([PCN1, PCN2, PCN3, PCN4, PCN5])\n",
    "lavg = np.mean([L1, L2, L3, L4, L5])\n",
    "q = 2  # Regulation parameter for voltage deviation\n",
    "psum = np.sum([PCN1+L1, PCN2+L2, PCN3+L3, PCN4+L4, PCN5+L5])\n",
    "\n",
    "print(pavg, lavg, psum)"
   ]
  },
  {
   "cell_type": "code",
   "execution_count": 106,
   "metadata": {},
   "outputs": [
    {
     "name": "stdout",
     "output_type": "stream",
     "text": [
      "[0.2200488997555012, 0.19559902200489, 0.24449877750611246, 0.18337408312958436, 0.15647921760391198]\n"
     ]
    }
   ],
   "source": [
    "q1 = (PCN1 + L1)/psum\n",
    "q2 = (PCN2 + L2)/psum\n",
    "q3 = (PCN3 + L3)/psum\n",
    "q4 = (PCN4 + L4)/psum\n",
    "q5 = (PCN5 + L5)/psum\n",
    "\n",
    "ql3 = [q1, q2, q3, q4, q5]\n",
    "print(ql3)\n"
   ]
  },
  {
   "cell_type": "code",
   "execution_count": 107,
   "metadata": {},
   "outputs": [],
   "source": [
    "ll = 1 - (pavg/psum)\n",
    "pt = 0.75 ## Take pt  = max loading %"
   ]
  },
  {
   "cell_type": "code",
   "execution_count": 108,
   "metadata": {},
   "outputs": [],
   "source": [
    "Kdc1 = 0.04\n",
    "Urated1 = 400"
   ]
  },
  {
   "cell_type": "code",
   "execution_count": 109,
   "metadata": {},
   "outputs": [
    {
     "name": "stdout",
     "output_type": "stream",
     "text": [
      "900 225 675\n"
     ]
    }
   ],
   "source": [
    "PCN11 = PCN1 - L1\n",
    "print(PCN1, PCN11, L1)"
   ]
  },
  {
   "cell_type": "code",
   "execution_count": 110,
   "metadata": {},
   "outputs": [
    {
     "name": "stdout",
     "output_type": "stream",
     "text": [
      "0.12453102807522103 18.067786276051\n"
     ]
    }
   ],
   "source": [
    "# Calculate the new droop constant for PCN1\n",
    "Kdcn1 = Kdc1 * (1000 / PCN11) * ((1 - ql3[0]) / ql3[0]) * ll * math.exp(-pt) ** q\n",
    "\n",
    "R1 = PCN1/ (Urated1*Kdcn1)\n",
    "\n",
    "print(Kdcn1, R1)\n"
   ]
  },
  {
   "cell_type": "code",
   "execution_count": 111,
   "metadata": {},
   "outputs": [],
   "source": [
    "# Calculate droop values for each converter\n",
    "Kdcn = []\n",
    "for i, PCN in enumerate([PCN11, PCN22, PCN33, PCN44, PCN55]):\n",
    "    m = 3 * pavg\n",
    "    Kdcn_value = (m * Kdc[i] * pavg) / (PCN ** 2)\n",
    "    \n",
    "    # Scaling factor based on load distribution\n",
    "    pt = 0.25  # Loading percentage parameter\n",
    "    p = (1 - pt) * np.ones(5)\n",
    "    sf = np.exp(-pt) ** q\n",
    "    Kdcn_value *= sf * p[i]\n",
    "    \n",
    "    Kdcn.append(Kdcn_value)"
   ]
  },
  {
   "cell_type": "code",
   "execution_count": 112,
   "metadata": {},
   "outputs": [
    {
     "name": "stdout",
     "output_type": "stream",
     "text": [
      "New droop constant for converter 1: 0.7215\n",
      "New droop constant for converter 2: 0.9131\n",
      "New droop constant for converter 3: 0.5844\n",
      "New droop constant for converter 4: 1.0390\n",
      "New droop constant for converter 5: 1.4268\n"
     ]
    }
   ],
   "source": [
    "# Display the calculated droop values\n",
    "for i, K in enumerate(Kdcn, 1):\n",
    "    print(f\"New droop constant for converter {i}: {K:.4f}\")"
   ]
  },
  {
   "cell_type": "markdown",
   "metadata": {},
   "source": [
    "_____"
   ]
  }
 ],
 "metadata": {
  "kernelspec": {
   "display_name": "Python 3",
   "language": "python",
   "name": "python3"
  },
  "language_info": {
   "codemirror_mode": {
    "name": "ipython",
    "version": 3
   },
   "file_extension": ".py",
   "mimetype": "text/x-python",
   "name": "python",
   "nbconvert_exporter": "python",
   "pygments_lexer": "ipython3",
   "version": "3.12.3"
  }
 },
 "nbformat": 4,
 "nbformat_minor": 2
}
